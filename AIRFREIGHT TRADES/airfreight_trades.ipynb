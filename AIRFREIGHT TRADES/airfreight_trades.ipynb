{
 "cells": [
  {
   "cell_type": "code",
   "execution_count": 8,
   "metadata": {},
   "outputs": [
    {
     "name": "stdout",
     "output_type": "stream",
     "text": [
      "Processed data has been saved to processed_shipments.xlsx\n"
     ]
    },
    {
     "ename": "",
     "evalue": "",
     "output_type": "error",
     "traceback": [
      "\u001b[1;31mThe Kernel crashed while executing code in the current cell or a previous cell. \n",
      "\u001b[1;31mPlease review the code in the cell(s) to identify a possible cause of the failure. \n",
      "\u001b[1;31mClick <a href='https://aka.ms/vscodeJupyterKernelCrash'>here</a> for more info. \n",
      "\u001b[1;31mView Jupyter <a href='command:jupyter.viewOutput'>log</a> for further details."
     ]
    }
   ],
   "source": [
    "import pandas as pd\n",
    "\n",
    "# Load the data from the provided Excel file\n",
    "file_path = 'e64bc2d6-09fb-41a4-a0e2-d5f6412af7aa.xlsx'\n",
    "df = pd.read_excel(file_path)\n",
    "\n",
    "# Group by Shipment No to find the first and last leg for each shipment\n",
    "shipment_groups = df.groupby('Shipment No').agg(\n",
    "    first_leg_origin=pd.NamedAgg(column='Leg Origin Code', aggfunc=lambda x: x.iloc[0]),\n",
    "    last_leg_destination=pd.NamedAgg(column='Leg Destination Code', aggfunc=lambda x: x.iloc[-1]),\n",
    "    weight=pd.NamedAgg(column='Actual Weight (kg)', aggfunc=lambda x: x.iloc[0])  # Use the first leg's weight\n",
    ").reset_index()\n",
    "\n",
    "# Rename columns for clarity\n",
    "shipment_groups = shipment_groups.rename(columns={\n",
    "    'first_leg_origin': 'Origin',\n",
    "    'last_leg_destination': 'Destination',\n",
    "    'weight': 'Weight (kg)'\n",
    "})\n",
    "\n",
    "# Group by Origin-Destination pair and calculate the sum of shipments and weights\n",
    "result = shipment_groups.groupby(['Origin', 'Destination']).agg(\n",
    "    num_shipments=pd.NamedAgg(column='Shipment No', aggfunc='count'),\n",
    "    total_weight=pd.NamedAgg(column='Weight (kg)', aggfunc='sum')\n",
    ").reset_index()\n",
    "\n",
    "# Calculate the total weight for all shipments\n",
    "total_weight = result['total_weight'].sum()\n",
    "\n",
    "# Add a column for the ratio of the specific tradelane's weight to the total weight\n",
    "result['Weight Ratio'] = result['total_weight'] / total_weight\n",
    "\n",
    "# Sort by the highest total weight per airport pair\n",
    "result = result.sort_values(by='total_weight', ascending=False)\n",
    "\n",
    "# Create an Excel writer object\n",
    "output_file_path = 'processed_shipments.xlsx'\n",
    "with pd.ExcelWriter(output_file_path, engine='xlsxwriter') as writer:\n",
    "    # Write the aggregated result to the first sheet\n",
    "    result.to_excel(writer, sheet_name='Aggregated Data', index=False)\n",
    "    \n",
    "    # Write the detailed shipment data to the second sheet\n",
    "    shipment_groups.to_excel(writer, sheet_name='Shipment Details', index=False)\n",
    "\n",
    "print(f'Processed data has been saved to {output_file_path}')\n"
   ]
  }
 ],
 "metadata": {
  "kernelspec": {
   "display_name": "Python 3",
   "language": "python",
   "name": "python3"
  },
  "language_info": {
   "codemirror_mode": {
    "name": "ipython",
    "version": 3
   },
   "file_extension": ".py",
   "mimetype": "text/x-python",
   "name": "python",
   "nbconvert_exporter": "python",
   "pygments_lexer": "ipython3",
   "version": "3.11.5"
  }
 },
 "nbformat": 4,
 "nbformat_minor": 2
}
